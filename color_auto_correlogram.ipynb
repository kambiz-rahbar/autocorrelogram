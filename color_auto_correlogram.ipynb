{
 "cells": [
  {
   "cell_type": "markdown",
   "id": "1fdeba17",
   "metadata": {},
   "source": [
    "# autocorrelogram\n",
    "Ref: Content‑based image retrieval using combined texture and color features based on multi‑resolution multi‑direction filtering and color autocorrelogram\n",
    "https://doi.org/10.1007/s12652-019-01466-0"
   ]
  },
  {
   "cell_type": "code",
   "execution_count": 1,
   "id": "0792ee81",
   "metadata": {},
   "outputs": [],
   "source": [
    "# %pip install numpy pillow"
   ]
  },
  {
   "cell_type": "code",
   "execution_count": 2,
   "id": "28ad2ddf",
   "metadata": {},
   "outputs": [],
   "source": [
    "import numpy as np\n",
    "from PIL import Image"
   ]
  },
  {
   "cell_type": "code",
   "execution_count": 3,
   "id": "dc4dc614",
   "metadata": {},
   "outputs": [],
   "source": [
    "# Computes neighbor counts for multiple pixels at a given distance.\n",
    "# distance (int): The order of the neighborhood (inf-norm distance).\n",
    "# pixel_widths, pixel_heights (ndarray): Arrays of pixel coordinates (width and height indices).\n",
    "# target_colors (ndarray): Array of quantized colors to compare.\n",
    "# quantized_image (ndarray): The color-quantized image matrix.\n",
    "# image_width, image_height (int): Dimensions of the input image.\n",
    "# same_color_counts (ndarray): Number of neighboring pixels with the same color for each pixel.\n",
    "# valid_neighbor_counts (ndarray): Total number of valid neighboring pixels for each pixel.\n",
    "def count_neighbors_at_distance(distance, pixel_widths, pixel_heights, target_colors, quantized_image, image_width, image_height):\n",
    "    num_pixels = len(pixel_widths)\n",
    "    \n",
    "    # Generate neighbor offsets for inf-norm distance (8*distance points)\n",
    "    offsets = []\n",
    "    for d in range(-distance, distance + 1):\n",
    "        if abs(d) == distance:\n",
    "            for w in range(-distance, distance + 1):\n",
    "                offsets.append((w, d))\n",
    "        else:\n",
    "            offsets.append((-distance, d))\n",
    "            offsets.append((distance, d))\n",
    "    offsets = np.array(offsets)  # Shape: (8*distance, 2)\n",
    "\n",
    "    # Expand offsets for all pixels\n",
    "    offsets = offsets[:, None, :]  # Shape: (8*distance, 1, 2)\n",
    "    pixel_coords = np.stack((pixel_widths, pixel_heights), axis=-1)  # Shape: (num_pixels, 2)\n",
    "    pixel_coords = pixel_coords[None, :, :]  # Shape: (1, num_pixels, 2)\n",
    "    \n",
    "    # Compute neighbor coordinates for all pixels\n",
    "    neighbor_coords = pixel_coords + offsets  # Shape: (8*distance, num_pixels, 2)\n",
    "    neighbor_width_coords = neighbor_coords[:, :, 0]  # Shape: (8*distance, num_pixels)\n",
    "    neighbor_height_coords = neighbor_coords[:, :, 1]  # Shape: (8*distance, num_pixels)\n",
    "\n",
    "    # Check validity of neighbors (within image bounds)\n",
    "    valid_mask = (\n",
    "        (neighbor_width_coords > 0) & (neighbor_width_coords <= image_width) &\n",
    "        (neighbor_height_coords > 0) & (neighbor_height_coords <= image_height)\n",
    "    )  # Shape: (8*distance, num_pixels)\n",
    "\n",
    "    # Initialize counts\n",
    "    same_color_counts = np.zeros(num_pixels, dtype=np.int32)\n",
    "    valid_neighbor_counts = np.zeros(num_pixels, dtype=np.int32)\n",
    "\n",
    "    # Process each neighbor offset\n",
    "    for i in range(8 * distance):\n",
    "        valid_pixels = valid_mask[i]  # Shape: (num_pixels,)\n",
    "        if not np.any(valid_pixels):\n",
    "            continue\n",
    "        \n",
    "        # Get valid neighbor coordinates for this offset\n",
    "        valid_widths = neighbor_width_coords[i, valid_pixels].astype(int) - 1\n",
    "        valid_heights = neighbor_height_coords[i, valid_pixels].astype(int) - 1\n",
    "        \n",
    "        # Extract neighbor colors\n",
    "        neighbor_colors = quantized_image[valid_heights, valid_widths]\n",
    "        \n",
    "        # Compare with target colors for valid pixels\n",
    "        valid_target_colors = target_colors[valid_pixels]\n",
    "        same_color_counts[valid_pixels] += (neighbor_colors == valid_target_colors).astype(np.int32)\n",
    "        \n",
    "        # Count valid neighbors\n",
    "        valid_neighbor_counts[valid_pixels] += 1\n",
    "\n",
    "    return same_color_counts, valid_neighbor_counts"
   ]
  },
  {
   "cell_type": "code",
   "execution_count": 4,
   "id": "49e01aea",
   "metadata": {},
   "outputs": [],
   "source": [
    "# Creates the auto-correlogram vector for an input image efficiently.\n",
    "# img (PIL.Image): Color image (RGB format).\n",
    "# neighbor_distance_vector (list or ndarray): Vector of neighbor distances for color distribution calculation.\n",
    "# color_quantization_number (int): Number of colors to quantize the image to (default: 64).\n",
    "# correlogram_vector (ndarray): Vector of probabilities of occurrence of quantized colors.\n",
    "def color_auto_correlogram(img, neighbor_distance_vector=[1, 3], color_quantization_number=64):\n",
    "    # Quantize image\n",
    "    img_quantized = img.quantize(colors=color_quantization_number, method=Image.Quantize.MEDIANCUT)\n",
    "    quantized_image = np.array(img_quantized)  # Shape: (height, width)\n",
    "\n",
    "    image_height, image_width = quantized_image.shape\n",
    "    neighbor_dimension = len(neighbor_distance_vector)\n",
    "\n",
    "    # Initialize count arrays\n",
    "    same_color_counts = np.zeros((color_quantization_number, neighbor_dimension), dtype=np.float32)\n",
    "    valid_neighbor_counts = np.zeros((color_quantization_number, neighbor_dimension), dtype=np.float32)\n",
    "\n",
    "    # Generate all pixel coordinates\n",
    "    pixel_widths, pixel_heights = np.meshgrid(\n",
    "        np.arange(image_width), np.arange(image_height), indexing='xy'\n",
    "    )\n",
    "    pixel_widths = pixel_widths.ravel()  # Shape: (height * width,)\n",
    "    pixel_heights = pixel_heights.ravel()  # Shape: (height * width,)\n",
    "    target_colors = quantized_image[pixel_heights, pixel_widths]  # Shape: (height * width,)\n",
    "\n",
    "    # Process each distance\n",
    "    for distance_index, distance in enumerate(neighbor_distance_vector):\n",
    "        # Compute neighbor counts for all pixels\n",
    "        pixel_same_color_counts, pixel_valid_neighbor_counts = count_neighbors_at_distance(\n",
    "            distance,\n",
    "            pixel_widths,\n",
    "            pixel_heights,\n",
    "            target_colors,\n",
    "            quantized_image,\n",
    "            image_width,\n",
    "            image_height\n",
    "        )\n",
    "\n",
    "        # Aggregate counts by color\n",
    "        for color in range(color_quantization_number):\n",
    "            color_mask = (target_colors == color)\n",
    "            same_color_counts[color, distance_index] = np.sum(pixel_same_color_counts[color_mask])\n",
    "            valid_neighbor_counts[color, distance_index] = np.sum(pixel_valid_neighbor_counts[color_mask])\n",
    "\n",
    "    # Compute probabilities\n",
    "    probability_distributions = same_color_counts / (1 + valid_neighbor_counts)  # Shape: (color_quantization_number, neighbor_dimension)\n",
    "\n",
    "    # Flatten to correlogram vector\n",
    "    correlogram_vector = probability_distributions.ravel()  # Shape: (color_quantization_number * neighbor_dimension,)\n",
    "\n",
    "    return correlogram_vector"
   ]
  },
  {
   "cell_type": "code",
   "execution_count": 5,
   "id": "a260c629",
   "metadata": {},
   "outputs": [
    {
     "name": "stdout",
     "output_type": "stream",
     "text": [
      "(16,)\n"
     ]
    }
   ],
   "source": [
    "img = Image.open('peppers.png').convert('RGB')\n",
    "correlogram_vector = color_auto_correlogram(img,\n",
    "                                            neighbor_distance_vector = [1,2],\n",
    "                                            color_quantization_number=8)\n",
    "print(correlogram_vector.shape)\n",
    "# Should be (96,) 95 = 64*3 i.e. color_quantization_number * neighbor_distance_vector\n"
   ]
  }
 ],
 "metadata": {
  "kernelspec": {
   "display_name": ".venv",
   "language": "python",
   "name": "python3"
  },
  "language_info": {
   "codemirror_mode": {
    "name": "ipython",
    "version": 3
   },
   "file_extension": ".py",
   "mimetype": "text/x-python",
   "name": "python",
   "nbconvert_exporter": "python",
   "pygments_lexer": "ipython3",
   "version": "3.12.3"
  }
 },
 "nbformat": 4,
 "nbformat_minor": 5
}
